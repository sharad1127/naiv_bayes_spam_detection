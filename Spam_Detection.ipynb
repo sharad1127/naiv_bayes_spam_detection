{
  "nbformat": 4,
  "nbformat_minor": 0,
  "metadata": {
    "colab": {
      "provenance": [],
      "authorship_tag": "ABX9TyNv6UeYHAF/+kVAJCOE6gCY",
      "include_colab_link": true
    },
    "kernelspec": {
      "name": "python3",
      "display_name": "Python 3"
    },
    "language_info": {
      "name": "python"
    }
  },
  "cells": [
    {
      "cell_type": "markdown",
      "metadata": {
        "id": "view-in-github",
        "colab_type": "text"
      },
      "source": [
        "<a href=\"https://colab.research.google.com/github/Ranjan4Kumar/naive_bayes_Spam_Dectection/blob/main/Spam_Detection.ipynb\" target=\"_parent\"><img src=\"https://colab.research.google.com/assets/colab-badge.svg\" alt=\"Open In Colab\"/></a>"
      ]
    },
    {
      "cell_type": "code",
      "execution_count": 16,
      "metadata": {
        "colab": {
          "base_uri": "https://localhost:8080/"
        },
        "id": "o_aqOetXQYd-",
        "outputId": "eae63cce-b497-4644-82c8-80567c983b2e"
      },
      "outputs": [
        {
          "output_type": "stream",
          "name": "stdout",
          "text": [
            "Drive already mounted at /content/drive/; to attempt to forcibly remount, call drive.mount(\"/content/drive/\", force_remount=True).\n"
          ]
        },
        {
          "output_type": "stream",
          "name": "stderr",
          "text": [
            "[nltk_data] Downloading package stopwords to /root/nltk_data...\n",
            "[nltk_data]   Package stopwords is already up-to-date!\n"
          ]
        }
      ],
      "source": [
        "# https://archive.ics.uci.edu/ml/machine-learning-databases/00228/ (Get data from here)\n",
        "from google.colab import drive\n",
        "drive.mount('/content/drive/')\n",
        "import pandas as pd\n",
        "import numpy as np\n",
        "import nltk\n",
        "import re\n",
        "nltk.download('stopwords')\n",
        "from nltk.corpus import stopwords\n",
        "from nltk.stem.porter import PorterStemmer\n",
        "from sklearn.feature_extraction.text import CountVectorizer\n",
        "ps = PorterStemmer()"
      ]
    },
    {
      "cell_type": "code",
      "source": [
        "message = pd.read_csv('/content/SMSSpamCollection', sep = '\\t' , names = ['label' , 'message'])\n",
        "\n",
        "# \\t :- It will help you to seperate tab sapce words in different columns\n",
        "# Since we don't have any cilumn so i am specyfying column names here with name = ['label' , 'message']\n"
      ],
      "metadata": {
        "id": "I5FR6gkDT2Da"
      },
      "execution_count": 28,
      "outputs": []
    },
    {
      "cell_type": "code",
      "source": [
        "corpus = []\n",
        "for i in range(len(message)):\n",
        "  review = re.sub('[^a-zA-Z]' ,' ' , message['message'][i])\n",
        "  review = review.lower()\n",
        "  review = review.split()\n",
        "  review = [ps.stem(word) for word in review if not word in stopwords.words('english')]\n",
        "  review = ' '.join(review)\n",
        "  corpus.append(review)\n",
        " "
      ],
      "metadata": {
        "id": "apP8AUfAUv6T"
      },
      "execution_count": 27,
      "outputs": []
    },
    {
      "cell_type": "code",
      "source": [
        "\n",
        "cv = CountVectorizer(max_features =5000)\n",
        "X = cv.fit_transform(corpus).toarray()"
      ],
      "metadata": {
        "id": "FCTXGYsSXiV5"
      },
      "execution_count": 45,
      "outputs": []
    },
    {
      "cell_type": "code",
      "source": [
        "y = pd.get_dummies(message['label'])\n",
        "y = y.iloc[:,1].values # Removing one column (from Ham and spam both are not required)"
      ],
      "metadata": {
        "id": "vz8u80LoX9lw"
      },
      "execution_count": 46,
      "outputs": []
    },
    {
      "cell_type": "code",
      "source": [
        "from sklearn.model_selection import train_test_split\n",
        "X_train ,X_test , y_train , y_test =train_test_split(X,y,test_size = 0.20 , random_state = 0)"
      ],
      "metadata": {
        "id": "36fR99PKZCT4"
      },
      "execution_count": 47,
      "outputs": []
    },
    {
      "cell_type": "code",
      "source": [
        "# Aplying naive bayes model\n",
        "from sklearn.naive_bayes import MultinomialNB\n",
        "spam_detect_model = MultinomialNB().fit(X_train , y_train)\n"
      ],
      "metadata": {
        "id": "OPfXlQKAZU5m"
      },
      "execution_count": 48,
      "outputs": []
    },
    {
      "cell_type": "code",
      "source": [
        "y_pred = spam_detect_model.predict(X_test)"
      ],
      "metadata": {
        "id": "LexPRnO1aBnX"
      },
      "execution_count": 42,
      "outputs": []
    },
    {
      "cell_type": "code",
      "source": [
        "# Here we will compare my y_pred with y_test by creating a confusion matrix\n",
        "from sklearn.metrics import confusion_matrix\n",
        "confusion_m = confusion_matrix(y_test , y_pred)\n"
      ],
      "metadata": {
        "id": "PCiWBS4yae1T"
      },
      "execution_count": 49,
      "outputs": []
    },
    {
      "cell_type": "code",
      "source": [
        "confusion_m"
      ],
      "metadata": {
        "colab": {
          "base_uri": "https://localhost:8080/"
        },
        "id": "ez40vdq9b7CW",
        "outputId": "3fcd4cfb-c79f-44d5-f8f7-3a15633cbc18"
      },
      "execution_count": 52,
      "outputs": [
        {
          "output_type": "execute_result",
          "data": {
            "text/plain": [
              "array([[946,   9],\n",
              "       [  7, 153]])"
            ]
          },
          "metadata": {},
          "execution_count": 52
        }
      ]
    },
    {
      "cell_type": "code",
      "source": [
        "# for cheecking the accuracy we can use more thing that is\n",
        "from sklearn.metrics import accuracy_score\n",
        "accuracy = (accuracy_score(y_test,y_pred)*100)\n",
        "print(\"Accuracy of the spam classifier {}%\".format(round(accuracy)))\n"
      ],
      "metadata": {
        "colab": {
          "base_uri": "https://localhost:8080/"
        },
        "id": "qQ9wDweDb9hn",
        "outputId": "1f1a30f8-1d97-4bfc-87ff-4359a0d094b4"
      },
      "execution_count": 58,
      "outputs": [
        {
          "output_type": "stream",
          "name": "stdout",
          "text": [
            "Accuracy of the spam classifier 99%\n"
          ]
        }
      ]
    },
    {
      "cell_type": "code",
      "source": [],
      "metadata": {
        "id": "qTeLudD3cW2R"
      },
      "execution_count": null,
      "outputs": []
    }
  ]
}